{
 "cells": [
  {
   "cell_type": "code",
   "execution_count": 1,
   "metadata": {},
   "outputs": [],
   "source": [
    "text = input(\"enter your text here : \")"
   ]
  },
  {
   "cell_type": "markdown",
   "metadata": {},
   "source": [
    "# count the number of word in the text "
   ]
  },
  {
   "cell_type": "code",
   "execution_count": 2,
   "metadata": {},
   "outputs": [
    {
     "name": "stdout",
     "output_type": "stream",
     "text": [
      "number of words is: 45\n"
     ]
    }
   ],
   "source": [
    "word_count = len(text.split())\n",
    "print (f\"number of words is: {word_count}\")"
   ]
  },
  {
   "cell_type": "markdown",
   "metadata": {},
   "source": [
    "# count the number of sentences in the text "
   ]
  },
  {
   "cell_type": "code",
   "execution_count": 3,
   "metadata": {},
   "outputs": [
    {
     "name": "stdout",
     "output_type": "stream",
     "text": [
      "number of sentences is: 2\n"
     ]
    }
   ],
   "source": [
    "sentence_count = text.count('.')\n",
    "print (f\"number of sentences is: {sentence_count}\")"
   ]
  },
  {
   "cell_type": "markdown",
   "metadata": {},
   "source": [
    "# calculte number of word in the text and average word leangth\""
   ]
  },
  {
   "cell_type": "code",
   "execution_count": 4,
   "metadata": {},
   "outputs": [
    {
     "name": "stdout",
     "output_type": "stream",
     "text": [
      "the leangth word average is : 7.666666666666667\n"
     ]
    }
   ],
   "source": [
    "total = sum(len(word)for word in text)\n",
    "average = total / word_count\n",
    "print (f\"the leangth word average is : {average}\")"
   ]
  },
  {
   "cell_type": "code",
   "execution_count": 5,
   "metadata": {},
   "outputs": [
    {
     "name": "stdout",
     "output_type": "stream",
     "text": [
      "most reapted word is 'in'\n"
     ]
    }
   ],
   "source": [
    "words = text.lower().split()\n",
    "most_common_word = max(set(words), key=words.count)\n",
    "print(f\"most reapted word is '{most_common_word}'\")\n",
    "\n",
    "\n"
   ]
  },
  {
   "cell_type": "markdown",
   "metadata": {},
   "source": [
    "Q2"
   ]
  },
  {
   "cell_type": "code",
   "execution_count": 6,
   "metadata": {},
   "outputs": [
    {
     "name": "stdout",
     "output_type": "stream",
     "text": [
      "Invalid input. Please enter a valid number.\n",
      "The numbers you entered are: [50.0, 50.0, 50.0, 50.0, 2.0, 20.0, 45.0, 21.0]\n"
     ]
    }
   ],
   "source": [
    "numbers = []\n",
    "\n",
    "# Loop that keeps asking the user for input\n",
    "while True:\n",
    "    # Prompting the user for input\n",
    "    user_input = input(\"Please enter a number (or type 'done' to stop): \")\n",
    "    \n",
    "    # Check if the user wants to stop\n",
    "    if user_input.lower() == 'done':\n",
    "        break\n",
    "    \n",
    "    try:\n",
    "        # Try to convert the input to a float and add it to the list\n",
    "        number = float(user_input)\n",
    "        numbers.append(number)\n",
    "    except ValueError:\n",
    "        # If the input is not a valid number, print an error message\n",
    "        print(\"Invalid input. Please enter a valid number.\")\n",
    "\n",
    "# Print the list of numbers entered by the user\n",
    "print(\"The numbers you entered are:\", numbers)\n"
   ]
  },
  {
   "cell_type": "code",
   "execution_count": 7,
   "metadata": {},
   "outputs": [
    {
     "name": "stdout",
     "output_type": "stream",
     "text": [
      "the mean is :36.0\n"
     ]
    }
   ],
   "source": [
    "mean = sum(numbers) / len(numbers)\n",
    "print (f\"the mean is :{mean}\")\n"
   ]
  },
  {
   "cell_type": "code",
   "execution_count": 8,
   "metadata": {},
   "outputs": [
    {
     "name": "stdout",
     "output_type": "stream",
     "text": [
      "The numbers you entered are: [50.0, 50.0, 50.0, 50.0, 2.0, 20.0, 45.0, 21.0]\n",
      "Median: 47.5\n"
     ]
    }
   ],
   "source": [
    "numbers_sorted = sorted(numbers)  \n",
    "n = len(numbers_sorted)\n",
    "if n % 2 == 1:\n",
    "        median = numbers_sorted[n // 2]\n",
    "else:\n",
    "        median = (numbers_sorted[n // 2 - 1] + numbers_sorted[n // 2]) / 2\n",
    "\n",
    "print(\"The numbers you entered are:\", numbers)\n",
    "print(f\"Median: {median}\")\n"
   ]
  },
  {
   "cell_type": "code",
   "execution_count": 10,
   "metadata": {},
   "outputs": [
    {
     "ename": "NameError",
     "evalue": "name 'max_count' is not defined",
     "output_type": "error",
     "traceback": [
      "\u001b[1;31m---------------------------------------------------------------------------\u001b[0m",
      "\u001b[1;31mNameError\u001b[0m                                 Traceback (most recent call last)",
      "Input \u001b[1;32mIn [10]\u001b[0m, in \u001b[0;36m<cell line: 4>\u001b[1;34m()\u001b[0m\n\u001b[0;32m      4\u001b[0m \u001b[38;5;28;01mfor\u001b[39;00m number \u001b[38;5;129;01min\u001b[39;00m unique_numbers:\n\u001b[0;32m      5\u001b[0m         count \u001b[38;5;241m=\u001b[39m numbers\u001b[38;5;241m.\u001b[39mcount(number) \n\u001b[1;32m----> 6\u001b[0m         \u001b[38;5;28;01mif\u001b[39;00m count \u001b[38;5;241m>\u001b[39m \u001b[43mmax_count\u001b[49m:\n\u001b[0;32m      7\u001b[0m             max_count \u001b[38;5;241m=\u001b[39m count\n\u001b[0;32m      8\u001b[0m             modes \u001b[38;5;241m=\u001b[39m [number]  \n",
      "\u001b[1;31mNameError\u001b[0m: name 'max_count' is not defined"
     ]
    }
   ],
   "source": [
    "unique_numbers = set(numbers)  \n",
    "modes = []\n",
    "\n",
    "for number in unique_numbers:\n",
    "        count = numbers.count(number) \n",
    "        if count > max_count:\n",
    "            max_count = count\n",
    "            modes = [number]  \n",
    "        elif count == max_count:\n",
    "            modes.append(number)\n",
    "\n",
    "if len(modes) == len(numbers):  \n",
    "        print(\"No unique mode\")\n",
    "else:\n",
    "        print(f\"Mode: {modes}\")        "
   ]
  },
  {
   "cell_type": "code",
   "execution_count": 11,
   "metadata": {},
   "outputs": [
    {
     "name": "stdout",
     "output_type": "stream",
     "text": [
      "Variance: 312.75\n"
     ]
    }
   ],
   "source": [
    "variance = sum((x - mean) ** 2 for x in numbers) / len(numbers)\n",
    "print(f\"Variance: {variance}\")\n"
   ]
  },
  {
   "cell_type": "code",
   "execution_count": 12,
   "metadata": {},
   "outputs": [
    {
     "name": "stdout",
     "output_type": "stream",
     "text": [
      " standered deviation is : 17.684739183827393\n"
     ]
    }
   ],
   "source": [
    "squared_diff = 0\n",
    "for value in numbers:\n",
    "    squared_diff += (value - mean) ** 2\n",
    "\n",
    "variance = squared_diff / len(numbers)\n",
    "\n",
    "\n",
    "standered_dev = variance ** 0.5\n",
    "print(f\" standered deviation is : {standered_dev}\")\n"
   ]
  },
  {
   "cell_type": "code",
   "execution_count": 14,
   "metadata": {},
   "outputs": [
    {
     "name": "stdout",
     "output_type": "stream",
     "text": [
      "Range: 82.0\n"
     ]
    }
   ],
   "source": [
    "range_value = max(numbers) - min(numbers)\n",
    "print(f\"Range: {range_value}\")\n",
    "\n"
   ]
  },
  {
   "cell_type": "code",
   "execution_count": 15,
   "metadata": {},
   "outputs": [
    {
     "name": "stdout",
     "output_type": "stream",
     "text": [
      "IQR: 53.0\n"
     ]
    }
   ],
   "source": [
    "Q1 = numbers_sorted[n // 4] if n % 4 == 0 else numbers_sorted[(n // 4) + 1]\n",
    "Q3 = numbers_sorted[(3 * n) // 4] if n % 4 == 0 else numbers_sorted[((3 * n) // 4) + 1]\n",
    "IQR = Q3 - Q1\n",
    "print(f\"IQR: {IQR}\")"
   ]
  }
 ],
 "metadata": {
  "kernelspec": {
   "display_name": "Python 3",
   "language": "python",
   "name": "python3"
  },
  "language_info": {
   "codemirror_mode": {
    "name": "ipython",
    "version": 3
   },
   "file_extension": ".py",
   "mimetype": "text/x-python",
   "name": "python",
   "nbconvert_exporter": "python",
   "pygments_lexer": "ipython3",
   "version": "3.10.4"
  }
 },
 "nbformat": 4,
 "nbformat_minor": 2
}
